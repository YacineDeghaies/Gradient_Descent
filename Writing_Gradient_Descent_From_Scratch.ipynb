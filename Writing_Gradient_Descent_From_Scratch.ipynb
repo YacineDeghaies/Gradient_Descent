{
  "nbformat": 4,
  "nbformat_minor": 0,
  "metadata": {
    "colab": {
      "provenance": []
    },
    "kernelspec": {
      "name": "python3",
      "display_name": "Python 3"
    },
    "language_info": {
      "name": "python"
    }
  },
  "cells": [
    {
      "cell_type": "code",
      "execution_count": 2,
      "metadata": {
        "id": "X_Xe6_Cav2TT"
      },
      "outputs": [],
      "source": [
        "import numpy as np\n",
        "import matplotlib.pyplot as plt\n",
        "import math"
      ]
    },
    {
      "cell_type": "code",
      "source": [
        "# create dataset\n",
        "X_train = np.array([[2104, 5, 1, 45], [1416, 3, 2, 40], [852, 2, 1, 35]])\n",
        "y_train = np.array([460, 232, 178])"
      ],
      "metadata": {
        "id": "jwXSfszFv9EE"
      },
      "execution_count": 3,
      "outputs": []
    },
    {
      "cell_type": "code",
      "source": [
        "def compute_cost(X, y, w, b):\n",
        "\n",
        "  cost = 0\n",
        "  m = X.shape[0]\n",
        "  for i in range(X.shape[0]):\n",
        "    f_wb = np.dot(X[i], w) + b\n",
        "    cost += (f_wb - y[i])**2\n",
        "\n",
        "  cost = 1/(2 * m) * cost\n",
        "\n",
        "  return cost\n"
      ],
      "metadata": {
        "id": "CKk9vRxvwHvs"
      },
      "execution_count": 4,
      "outputs": []
    },
    {
      "cell_type": "code",
      "source": [
        "def compute_gradient(X, y, w, b):\n",
        "\n",
        "  m, n = X.shape\n",
        "\n",
        "  dj_dw = np.zeros((n,))\n",
        "  dj_db = 0.\n",
        "\n",
        "  for i in range(m):\n",
        "    error = np.dot(X[i], w) + b - y[i]\n",
        "    for j in range(n):\n",
        "      dj_dw[j] = dj_dw[j] + error * X[i, j]\n",
        "\n",
        "    dj_db += error\n",
        "\n",
        "\n",
        "  dj_dw = dj_dw /m\n",
        "  dj_db = dj_db /m\n",
        "\n",
        "  return dj_dw, dj_db\n"
      ],
      "metadata": {
        "id": "6iCBMNQjwsGj"
      },
      "execution_count": 5,
      "outputs": []
    },
    {
      "cell_type": "code",
      "source": [
        "def gradient_descent(X, y, w_init, b_init, alpha, cost_function, gradient_function, num_iter):\n",
        "\n",
        "  J_hist = []\n",
        "  w = w_init\n",
        "  b = b_init\n",
        "  for i in range(num_iter):\n",
        "    dj_dw, dj_db = gradient_function(X, y, w, b)\n",
        "\n",
        "    w = w - alpha * dj_dw\n",
        "    b = b - alpha * dj_db\n",
        "\n",
        "    if i < 100000:\n",
        "      cost = cost_function(X, y, w, b)\n",
        "      J_hist.append(cost)\n",
        "\n",
        "    if i % math.ceil(num_iter/10) == 0:\n",
        "      print(f\"Iteration {i}, cost: {cost}\")\n",
        "\n",
        "\n",
        "  return w, b, J_hist\n",
        "\n"
      ],
      "metadata": {
        "id": "nAqEePqR0FW-"
      },
      "execution_count": 6,
      "outputs": []
    },
    {
      "cell_type": "code",
      "source": [
        "## Running the GD algorithm\n",
        "\n",
        "\n",
        "w_init = np.zeros(4)\n",
        "b_init = 0.\n",
        "alpha = 5.0e-7\n",
        "iterations = 10000\n",
        "w_final, b_final, J_hist = gradient_descent(X_train, y_train, w_init, b_init, alpha,\n",
        "                                            compute_cost, compute_gradient, iterations)\n"
      ],
      "metadata": {
        "colab": {
          "base_uri": "https://localhost:8080/"
        },
        "id": "inwgAcSS2zNE",
        "outputId": "d9ab7c74-d9dd-4730-e92f-06608d90cd9c"
      },
      "execution_count": 7,
      "outputs": [
        {
          "output_type": "stream",
          "name": "stdout",
          "text": [
            "Iteration 0, cost: 2529.46295223163\n",
            "Iteration 1000, cost: 686.6934839275277\n",
            "Iteration 2000, cost: 677.188936972499\n",
            "Iteration 3000, cost: 668.4815829959603\n",
            "Iteration 4000, cost: 660.5035880182958\n",
            "Iteration 5000, cost: 653.1928903567929\n",
            "Iteration 6000, cost: 646.4927094349846\n",
            "Iteration 7000, cost: 640.3510963896539\n",
            "Iteration 8000, cost: 634.7205229186766\n",
            "Iteration 9000, cost: 629.5575051156558\n"
          ]
        }
      ]
    },
    {
      "cell_type": "code",
      "source": [],
      "metadata": {
        "id": "EXez8fd33UaE"
      },
      "execution_count": 7,
      "outputs": []
    }
  ]
}